{
 "cells": [
  {
   "cell_type": "code",
   "execution_count": 1,
   "id": "6b10cfa0",
   "metadata": {},
   "outputs": [],
   "source": [
    "#-*-coding:utf8; -*-\n",
    "def luhn_algo (card):\n",
    "    odd, even = 0, 0\n",
    "    for num in range(len(card)):\n",
    "        if num%2 != 0:\n",
    "            odd = int(card[num]) + odd\n",
    "        else:\n",
    "            br = int(card[num])*2\n",
    "            if br < 10:\n",
    "                even = br + even\n",
    "            else:\n",
    "                br = br - 9\n",
    "                even = br + even\n",
    "    if (odd+even) %10 == 0:\n",
    "        print(f'{card} : is Valid Card')\n",
    "    else:\n",
    "        print(f'{card} : is not a Valid Card')"
   ]
  },
  {
   "cell_type": "code",
   "execution_count": 2,
   "id": "479729bc",
   "metadata": {},
   "outputs": [
    {
     "name": "stdout",
     "output_type": "stream",
     "text": [
      "0123456789 : is not a Valid Card\n"
     ]
    }
   ],
   "source": [
    "luhn_algo(\"0123456789\")"
   ]
  },
  {
   "cell_type": "code",
   "execution_count": null,
   "id": "f32574ce",
   "metadata": {},
   "outputs": [],
   "source": []
  }
 ],
 "metadata": {
  "kernelspec": {
   "display_name": "Python 3 (ipykernel)",
   "language": "python",
   "name": "python3"
  },
  "language_info": {
   "codemirror_mode": {
    "name": "ipython",
    "version": 3
   },
   "file_extension": ".py",
   "mimetype": "text/x-python",
   "name": "python",
   "nbconvert_exporter": "python",
   "pygments_lexer": "ipython3",
   "version": "3.9.13"
  }
 },
 "nbformat": 4,
 "nbformat_minor": 5
}
